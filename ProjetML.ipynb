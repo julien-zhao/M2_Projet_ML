{
  "nbformat": 4,
  "nbformat_minor": 0,
  "metadata": {
    "colab": {
      "provenance": []
    },
    "kernelspec": {
      "name": "python3",
      "display_name": "Python 3"
    },
    "language_info": {
      "name": "python"
    }
  },
  "cells": [
    {
      "cell_type": "markdown",
      "source": [
        "# **PROJET MACHINE LEARNING**\n",
        "\n"
      ],
      "metadata": {
        "id": "YiEWjQCh3R6I"
      }
    },
    {
      "cell_type": "markdown",
      "source": [
        "\n",
        "---\n",
        "##**Membres de l'équipe**\n",
        "*    DAI Elodie\n",
        "\n",
        "*    ZHAO Julien\n",
        "\n",
        "*    ZHAO Wenbo\n",
        "\n",
        "*    CHENG Wenxin\n",
        "\n",
        "*    BENKHANOUS Salaheddine\n",
        "\n",
        "---\n",
        "##**Modalités**\n",
        "####**Deadline**\n",
        "*   Maximum avant le 19 janvier 2025 à 20h.\n",
        "\n",
        "---\n",
        "####**Notation**\n",
        "*   Un point pour la qualité de l'argumentation.\n",
        "*   Un point pour la rigueur méthodologique.\n",
        "*   Un point pour la performance si la RMSE finale obtenu est inférieure à 1.5 pour un dataset de test composée des 20% date les plus récentes.\n",
        "\n",
        "---\n",
        "####**Description du Dataset**\n",
        "\n",
        "*  Le dataset représente les données de marché pour l'indice VKOSPI, qui est l'équivalent coréen de l'indice de volatilité implicite VIX aux États-Unis. Chaque ligne du dataset correspond à un jour de trading, excluant les week-ends et les jours fériés. Les colonnes du dataset fournissent diverses informations sur les transactions et les positions des options et des futures sur l'indice KOSPI200, qui est l'actif sous-jacent du VKOSPI.\n",
        "\n",
        "---\n",
        "###**Description des Colonnes**\n",
        "*   Date : *La date du jour de trading.*\n",
        "*   VKOSPI : *La valeur de l'indice de volatilité implicite VKOSPI pour ce jour.*\n",
        "*   KOSPI200 : *La valeur de l'indice KOSPI200 pour ce jour.*\n",
        "*   Open_interest : *Le nombre total de contrats d'options ouverts (non réglés) pour ce jour.*\n",
        "*   For_KOSPI_Netbuying_Amount : *Le montant net acheté par les étrangers pour l'indice KOSPI200, calculé comme (Prix) * (Quantité).*\n",
        "*   For_Future_Netbuying_Quantity : *La quantité nette achetée par les étrangers pour les futures de KOSPI200.*\n",
        "*   For_Call_Netbuying_Quantity : *La quantité nette achetée par les étrangers pour les options d'achat (call) de KOSPI200.*\n",
        "*   For_Put_Netbuying_Quantity : *La quantité nette achetée par les étrangers pour les options de vente (put) de KOSPI200.*\n",
        "*   Indiv_Future_Netbuying_Quantity : *La quantité nette achetée par les individus pour les futures de KOSPI200.*\n",
        "*   Indiv_Call_Netbuying_Quantity : *La quantité nette achetée par les individus pour les options d'achat (call) de KOSPI200.*\n",
        "*   Indiv_Put_Netbuying_Quantity : *La quantité nette achetée par les individus pour les options de vente (put) de KOSPI200.*\n",
        "*   PCRatio : *Le ratio Put-Call, qui est le rapport entre le volume des options de vente (put) et le volume des options d'achat (call).*\n",
        "*   Day_till_expiration : *Le nombre de jours restants jusqu'à la date d'expiration des options.*\n",
        "\n",
        "---\n",
        "###**Notions financières**\n",
        "*   Le KOSPI200 est un indice boursier composé des 200 plus grandes entreprises cotées en Corée du Sud. Il est souvent considéré comme un indicateur de la performance du marché boursier coréen. Un indice similaire au S&P500 pour les États-Unis, l’Euro STOXX 50 l’Europe ou le Nikkei 225 pour le Japon.\n",
        "*   La volatilité implicite est une mesure de la volatilité future attendue d'un actif sous-jacent, dérivée des prix des options. Le VKOSPI est l'indice de volatilité implicite pour le marché coréen, comparable au VIX pour le marché américain, VSTOXX pour le marché européen ou VNKY pour le Japon.\n",
        "*   L'open interest représente le nombre total de contrats d'options ouverts (non réglés) à une date donnée. C'est une mesure de l'activité de trading et de l'intérêt des investisseurs pour les options.\n",
        "*   Le net buying amount ou quantity représente la différence entre les achats et les ventes effectués par un groupe spécifique (étrangers ou individus) pour un actif donné (KOSPI200, futures, options d'achat, options de vente). Un net buying positif indique que les achats dépassent les ventes.\n",
        "*   Le ratio Put-Call est le rapport entre le volume des options de vente (put) et le volume des options d'achat (call). Il est utilisé comme indicateur de sentiment de marché. Un ratio élevé peut indiquer une prudence ou une anticipation de baisse des prix.\n",
        "*   Une option d'achat (call) donne à son détenteur le droit, mais non l'obligation, d'acheter un actif sous-jacent à un prix prédéterminé (prix d'exercice) avant une date d'expiration donnée.\n",
        "*   Une option de vente (put) donne à son détenteur le droit, mais non l'obligation, de vendre un actif sous-jacent à un prix prédéterminé (prix d'exercice) avant une date d'expiration donnée.\n",
        "*   Un contrat à terme (future) est un accord pour acheter ou vendre un actif sous-jacent à un prix prédéterminé à une date future spécifiée.\n",
        "\n",
        "---\n",
        "###**Objectif**\n",
        "*  Prédire, en expliquant rigoureusement et clairement la démarche, la valeur du VKOSPI. La métrique de référence sera la RSME, mais à des fins d'analyse d'autres métrique peuvent être discutée. Aucun algorithmes autres que ceux vus en cours et décrit dans le poly ne seront acceptés.\n",
        "\n",
        "---\n",
        "# Présentation de quel cadre nous somme\n",
        "> Apprentissage supevisé\n",
        "> Valeur Continue donc sous catégorie régression"
      ],
      "metadata": {
        "id": "QlxqxYQecxO_"
      }
    },
    {
      "cell_type": "markdown",
      "source": [
        "#**1. Importation des différents modules et données**\n"
      ],
      "metadata": {
        "id": "pGxg7NT5c1xX"
      }
    }
  ]
}